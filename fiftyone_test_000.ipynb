{
 "cells": [
  {
   "cell_type": "code",
   "execution_count": 1,
   "metadata": {},
   "outputs": [],
   "source": [
    "import fiftyone as fo"
   ]
  },
  {
   "cell_type": "code",
   "execution_count": 3,
   "metadata": {},
   "outputs": [
    {
     "name": "stdout",
     "output_type": "stream",
     "text": [
      " 100% |███████████████████| 16/16 [14.2ms elapsed, 0s remaining, 1.1K samples/s]      \n",
      "Name:        my_dataset_SS\n",
      "Media type:  image\n",
      "Num samples: 16\n",
      "Persistent:  False\n",
      "Tags:        []\n",
      "Sample fields:\n",
      "    id:           fiftyone.core.fields.ObjectIdField\n",
      "    filepath:     fiftyone.core.fields.StringField\n",
      "    tags:         fiftyone.core.fields.ListField(fiftyone.core.fields.StringField)\n",
      "    metadata:     fiftyone.core.fields.EmbeddedDocumentField(fiftyone.core.metadata.ImageMetadata)\n",
      "    ground_truth: fiftyone.core.fields.EmbeddedDocumentField(fiftyone.core.labels.Segmentation)\n",
      "[<Sample: {\n",
      "    'id': '66b6678352b2e4f1d779b878',\n",
      "    'media_type': 'image',\n",
      "    'filepath': '/home/xps-ubuntu/Documents/CV/FiftyOneTest/Datasets/dataset_ss/data/sunflower_20230526_6484_sess10_C03_IMG_RGB_00017.png',\n",
      "    'tags': [],\n",
      "    'metadata': None,\n",
      "    'ground_truth': <Segmentation: {\n",
      "        'id': '66b6678352b2e4f1d779b877',\n",
      "        'tags': [],\n",
      "        'mask': None,\n",
      "        'mask_path': '/home/xps-ubuntu/Documents/CV/FiftyOneTest/Datasets/dataset_ss/labels/sunflower_20230526_6484_sess10_C03_IMG_RGB_00017.png',\n",
      "    }>,\n",
      "}>, <Sample: {\n",
      "    'id': '66b6678352b2e4f1d779b881',\n",
      "    'media_type': 'image',\n",
      "    'filepath': '/home/xps-ubuntu/Documents/CV/FiftyOneTest/Datasets/dataset_ss/data/sunflower_20230526_6484_sess10_C06_IMG_RGB_00021.png',\n",
      "    'tags': [],\n",
      "    'metadata': None,\n",
      "    'ground_truth': <Segmentation: {\n",
      "        'id': '66b6678352b2e4f1d779b879',\n",
      "        'tags': [],\n",
      "        'mask': None,\n",
      "        'mask_path': '/home/xps-ubuntu/Documents/CV/FiftyOneTest/Datasets/dataset_ss/labels/sunflower_20230526_6484_sess10_C06_IMG_RGB_00021.png',\n",
      "    }>,\n",
      "}>, <Sample: {\n",
      "    'id': '66b6678352b2e4f1d779b882',\n",
      "    'media_type': 'image',\n",
      "    'filepath': '/home/xps-ubuntu/Documents/CV/FiftyOneTest/Datasets/dataset_ss/data/sunflower_20230526_6484_sess10_C13_IMG_RGB_00005.png',\n",
      "    'tags': [],\n",
      "    'metadata': None,\n",
      "    'ground_truth': <Segmentation: {\n",
      "        'id': '66b6678352b2e4f1d779b87a',\n",
      "        'tags': [],\n",
      "        'mask': None,\n",
      "        'mask_path': '/home/xps-ubuntu/Documents/CV/FiftyOneTest/Datasets/dataset_ss/labels/sunflower_20230526_6484_sess10_C13_IMG_RGB_00005.png',\n",
      "    }>,\n",
      "}>]\n"
     ]
    }
   ],
   "source": [
    "DATASET_DIR = \"Datasets/dataset_ss\"\n",
    "\n",
    "# Load the dataset\n",
    "name = \"my_dataset_SS\"\n",
    "\n",
    "# Now we delete it\n",
    "fo.delete_dataset(name)\n",
    "\n",
    "# Create the dataset\n",
    "dataset = fo.Dataset.from_dir(\n",
    "    dataset_dir=DATASET_DIR,\n",
    "    dataset_type=fo.types.ImageSegmentationDirectory,\n",
    "    name=name,\n",
    ")\n",
    "\n",
    "# View summary info about the dataset\n",
    "print(dataset)\n",
    "\n",
    "# Print the first few samples in the dataset\n",
    "print(dataset.head())"
   ]
  }
 ],
 "metadata": {
  "kernelspec": {
   "display_name": "llm",
   "language": "python",
   "name": "python3"
  },
  "language_info": {
   "codemirror_mode": {
    "name": "ipython",
    "version": 3
   },
   "file_extension": ".py",
   "mimetype": "text/x-python",
   "name": "python",
   "nbconvert_exporter": "python",
   "pygments_lexer": "ipython3",
   "version": "3.10.14"
  }
 },
 "nbformat": 4,
 "nbformat_minor": 2
}
